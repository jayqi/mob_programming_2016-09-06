{
 "cells": [
  {
   "cell_type": "markdown",
   "metadata": {},
   "source": [
    "# Mob Programming - Sept 6, 2016\n",
    "\n",
    "At Chi Hack Night in Chicago, IL\n",
    "\n",
    "Below is the Jupyter notebook from our mob programming session, with some annotations added after the fact, for clarity. \n",
    "\n",
    "The object was to compare these two datasets of complaints against police officers in the [chicago-police-data repository](https://github.com/invinst/chicago-police-data):\n",
    "* Older data on [Citizen's Police Data Project](https://cpdb.co) (in repo, [/cpdb_complaints-cpd/](https://github.com/invinst/chicago-police-data/tree/master/cpdb_complaints-cpd))\n",
    "* Data obtained recently in June 2016 by FOIA (in repo, [/complaints-cpd-june2016/](https://github.com/invinst/chicago-police-data/tree/master/complaints-cpd-june2016))\n",
    "\n",
    "These two datasets contained some of the same information but were obtained at different times from the police department. For complaint cases overlapping between the two sets, we wanted to identify if the incident categorization changed over time. (The police department might recategorize incidents.)"
   ]
  },
  {
   "cell_type": "code",
   "execution_count": 60,
   "metadata": {
    "collapsed": false
   },
   "outputs": [],
   "source": [
    "# Import the pandas library for data manipulation, assign it the alias pd\n",
    "import pandas as pd"
   ]
  },
  {
   "cell_type": "code",
   "execution_count": 61,
   "metadata": {
    "collapsed": false
   },
   "outputs": [
    {
     "name": "stderr",
     "output_type": "stream",
     "text": [
      "/Users/Jay/miniconda3/lib/python3.5/site-packages/IPython/core/interactiveshell.py:2723: DtypeWarning: Columns (28,29,30,31,33) have mixed types. Specify dtype option on import or set low_memory=False.\n",
      "  interactivity=interactivity, compiler=compiler, result=result)\n"
     ]
    }
   ],
   "source": [
    "# Read in the June data from a csv file\n",
    "df = pd.read_csv('/Users/Jay/projects/chicago-police-data/complaints-cpd-june2016/june2016_all.csv')"
   ]
  },
  {
   "cell_type": "code",
   "execution_count": 6,
   "metadata": {
    "collapsed": false
   },
   "outputs": [
    {
     "data": {
      "text/html": [
       "<div>\n",
       "<table border=\"1\" class=\"dataframe\">\n",
       "  <thead>\n",
       "    <tr style=\"text-align: right;\">\n",
       "      <th></th>\n",
       "      <th>Complaint_Number</th>\n",
       "      <th>Beat</th>\n",
       "      <th>Location_Code</th>\n",
       "      <th>Address</th>\n",
       "      <th>Street</th>\n",
       "      <th>Apartment</th>\n",
       "      <th>City_State_Zipcode</th>\n",
       "      <th>Incident_Datetime</th>\n",
       "      <th>Complaint_Date</th>\n",
       "      <th>Closed_Date</th>\n",
       "      <th>...</th>\n",
       "      <th>PO_Witness_Race</th>\n",
       "      <th>PO_Witness_Star</th>\n",
       "      <th>PO_Witness_Birth_Year</th>\n",
       "      <th>PO_Witness_Date_Appointed</th>\n",
       "      <th>Victim_Gender</th>\n",
       "      <th>Victim_Age</th>\n",
       "      <th>Victim_Race_Desc</th>\n",
       "      <th>Complainant_Gender</th>\n",
       "      <th>Complainant_Age</th>\n",
       "      <th>Complainant_Race_Desc</th>\n",
       "    </tr>\n",
       "  </thead>\n",
       "  <tbody>\n",
       "    <tr>\n",
       "      <th>0</th>\n",
       "      <td>106213.0</td>\n",
       "      <td>1631.0</td>\n",
       "      <td>17</td>\n",
       "      <td>3700.0</td>\n",
       "      <td>N HARLEM AVE</td>\n",
       "      <td>NaN</td>\n",
       "      <td>CHICAGO IL 60634</td>\n",
       "      <td>2015-07-19 21:00:00</td>\n",
       "      <td>2015-07-20 00:00:00</td>\n",
       "      <td>2015-09-21 00:00:00</td>\n",
       "      <td>...</td>\n",
       "      <td>NaN</td>\n",
       "      <td>NaN</td>\n",
       "      <td>NaN</td>\n",
       "      <td>NaN</td>\n",
       "      <td>NaN</td>\n",
       "      <td>NaN</td>\n",
       "      <td>NaN</td>\n",
       "      <td>NaN</td>\n",
       "      <td>NaN</td>\n",
       "      <td>NaN</td>\n",
       "    </tr>\n",
       "    <tr>\n",
       "      <th>1</th>\n",
       "      <td>107899.0</td>\n",
       "      <td>611.0</td>\n",
       "      <td>17</td>\n",
       "      <td>7843.0</td>\n",
       "      <td>S HERMITAGE AVE</td>\n",
       "      <td>NaN</td>\n",
       "      <td>CHICAGO IL 6062</td>\n",
       "      <td>2015-08-16 20:20:00</td>\n",
       "      <td>2016-01-25 00:00:00</td>\n",
       "      <td>NaN</td>\n",
       "      <td>...</td>\n",
       "      <td>NaN</td>\n",
       "      <td>NaN</td>\n",
       "      <td>NaN</td>\n",
       "      <td>NaN</td>\n",
       "      <td>NaN</td>\n",
       "      <td>NaN</td>\n",
       "      <td>NaN</td>\n",
       "      <td>NaN</td>\n",
       "      <td>NaN</td>\n",
       "      <td>NaN</td>\n",
       "    </tr>\n",
       "    <tr>\n",
       "      <th>2</th>\n",
       "      <td>107901.0</td>\n",
       "      <td>1814.0</td>\n",
       "      <td>17</td>\n",
       "      <td>1622.0</td>\n",
       "      <td>N NORTH PARK AVE</td>\n",
       "      <td>NaN</td>\n",
       "      <td>CHICAGO IL 60614</td>\n",
       "      <td>2016-01-25 21:50:00</td>\n",
       "      <td>2016-01-26 00:00:00</td>\n",
       "      <td>NaN</td>\n",
       "      <td>...</td>\n",
       "      <td>NaN</td>\n",
       "      <td>NaN</td>\n",
       "      <td>NaN</td>\n",
       "      <td>NaN</td>\n",
       "      <td>NaN</td>\n",
       "      <td>NaN</td>\n",
       "      <td>NaN</td>\n",
       "      <td>NaN</td>\n",
       "      <td>NaN</td>\n",
       "      <td>NaN</td>\n",
       "    </tr>\n",
       "    <tr>\n",
       "      <th>3</th>\n",
       "      <td>108026.0</td>\n",
       "      <td>1722.0</td>\n",
       "      <td>04</td>\n",
       "      <td>4650.0</td>\n",
       "      <td>N PULASKI RD</td>\n",
       "      <td>NaN</td>\n",
       "      <td>CHICAGO IL</td>\n",
       "      <td>2013-10-14 00:01:00</td>\n",
       "      <td>2016-04-25 00:00:00</td>\n",
       "      <td>NaN</td>\n",
       "      <td>...</td>\n",
       "      <td>NaN</td>\n",
       "      <td>NaN</td>\n",
       "      <td>NaN</td>\n",
       "      <td>NaN</td>\n",
       "      <td>NaN</td>\n",
       "      <td>NaN</td>\n",
       "      <td>NaN</td>\n",
       "      <td>NaN</td>\n",
       "      <td>NaN</td>\n",
       "      <td>NaN</td>\n",
       "    </tr>\n",
       "    <tr>\n",
       "      <th>4</th>\n",
       "      <td>108026.0</td>\n",
       "      <td>1722.0</td>\n",
       "      <td>04</td>\n",
       "      <td>4650.0</td>\n",
       "      <td>N PULASKI RD</td>\n",
       "      <td>NaN</td>\n",
       "      <td>CHICAGO IL</td>\n",
       "      <td>2013-10-14 00:01:00</td>\n",
       "      <td>2016-04-25 00:00:00</td>\n",
       "      <td>NaN</td>\n",
       "      <td>...</td>\n",
       "      <td>NaN</td>\n",
       "      <td>NaN</td>\n",
       "      <td>NaN</td>\n",
       "      <td>NaN</td>\n",
       "      <td>NaN</td>\n",
       "      <td>NaN</td>\n",
       "      <td>NaN</td>\n",
       "      <td>NaN</td>\n",
       "      <td>NaN</td>\n",
       "      <td>NaN</td>\n",
       "    </tr>\n",
       "  </tbody>\n",
       "</table>\n",
       "<p>5 rows × 40 columns</p>\n",
       "</div>"
      ],
      "text/plain": [
       "   Complaint_Number    Beat Location_Code  Address            Street  \\\n",
       "0          106213.0  1631.0            17   3700.0      N HARLEM AVE   \n",
       "1          107899.0   611.0            17   7843.0   S HERMITAGE AVE   \n",
       "2          107901.0  1814.0            17   1622.0  N NORTH PARK AVE   \n",
       "3          108026.0  1722.0            04   4650.0      N PULASKI RD   \n",
       "4          108026.0  1722.0            04   4650.0      N PULASKI RD   \n",
       "\n",
       "  Apartment City_State_Zipcode    Incident_Datetime       Complaint_Date  \\\n",
       "0       NaN   CHICAGO IL 60634  2015-07-19 21:00:00  2015-07-20 00:00:00   \n",
       "1       NaN    CHICAGO IL 6062  2015-08-16 20:20:00  2016-01-25 00:00:00   \n",
       "2       NaN   CHICAGO IL 60614  2016-01-25 21:50:00  2016-01-26 00:00:00   \n",
       "3       NaN         CHICAGO IL  2013-10-14 00:01:00  2016-04-25 00:00:00   \n",
       "4       NaN         CHICAGO IL  2013-10-14 00:01:00  2016-04-25 00:00:00   \n",
       "\n",
       "           Closed_Date          ...          PO_Witness_Race  PO_Witness_Star  \\\n",
       "0  2015-09-21 00:00:00          ...                      NaN              NaN   \n",
       "1                  NaN          ...                      NaN              NaN   \n",
       "2                  NaN          ...                      NaN              NaN   \n",
       "3                  NaN          ...                      NaN              NaN   \n",
       "4                  NaN          ...                      NaN              NaN   \n",
       "\n",
       "  PO_Witness_Birth_Year  PO_Witness_Date_Appointed Victim_Gender Victim_Age  \\\n",
       "0                   NaN                        NaN           NaN        NaN   \n",
       "1                   NaN                        NaN           NaN        NaN   \n",
       "2                   NaN                        NaN           NaN        NaN   \n",
       "3                   NaN                        NaN           NaN        NaN   \n",
       "4                   NaN                        NaN           NaN        NaN   \n",
       "\n",
       "   Victim_Race_Desc Complainant_Gender Complainant_Age Complainant_Race_Desc  \n",
       "0               NaN                NaN             NaN                   NaN  \n",
       "1               NaN                NaN             NaN                   NaN  \n",
       "2               NaN                NaN             NaN                   NaN  \n",
       "3               NaN                NaN             NaN                   NaN  \n",
       "4               NaN                NaN             NaN                   NaN  \n",
       "\n",
       "[5 rows x 40 columns]"
      ]
     },
     "execution_count": 6,
     "metadata": {},
     "output_type": "execute_result"
    }
   ],
   "source": [
    "# Print the first five rows to see what it looks like\n",
    "df.head()"
   ]
  },
  {
   "cell_type": "code",
   "execution_count": 7,
   "metadata": {
    "collapsed": false
   },
   "outputs": [
    {
     "name": "stdout",
     "output_type": "stream",
     "text": [
      "<class 'pandas.core.frame.DataFrame'>\n",
      "RangeIndex: 31597 entries, 0 to 31596\n",
      "Data columns (total 40 columns):\n",
      "Complaint_Number                   31597 non-null float64\n",
      "Beat                               26935 non-null float64\n",
      "Location_Code                      27149 non-null object\n",
      "Address                            19684 non-null float64\n",
      "Street                             20110 non-null object\n",
      "Apartment                          1530 non-null object\n",
      "City_State_Zipcode                 21396 non-null object\n",
      "Incident_Datetime                  27151 non-null object\n",
      "Complaint_Date                     27151 non-null object\n",
      "Closed_Date                        24203 non-null object\n",
      "Investigator_Name                  27753 non-null object\n",
      "Investigator_Current_Assignment    27753 non-null float64\n",
      "Investigator_Rank                  27753 non-null object\n",
      "Investigator_Star                  19661 non-null float64\n",
      "Investigator_Appointed_Date        26836 non-null object\n",
      "Accused_Name                       21080 non-null object\n",
      "Accused_Birth_Yr                   21080 non-null float64\n",
      "Accused_Gender                     21080 non-null object\n",
      "Accused_Race_Code                  21080 non-null object\n",
      "Accused_Date_of_Appt               21080 non-null object\n",
      "Accused_Current_Unit               21080 non-null float64\n",
      "Accused_Current_Rank               20965 non-null object\n",
      "Accused_Star                       19882 non-null float64\n",
      "Accused_Complaint_Category         19346 non-null object\n",
      "Accused_Finding                    7390 non-null object\n",
      "Accused_Recommended_Discipline     17398 non-null float64\n",
      "Accused_Final_Finding              6923 non-null object\n",
      "Accused_Discipline                 16912 non-null float64\n",
      "PO_Witness_Name                    3432 non-null object\n",
      "PO_Witness_Gender                  3432 non-null object\n",
      "PO_Witness_Race                    3432 non-null object\n",
      "PO_Witness_Star                    3220 non-null object\n",
      "PO_Witness_Birth_Year              3415 non-null float64\n",
      "PO_Witness_Date_Appointed          3415 non-null object\n",
      "Victim_Gender                      12554 non-null object\n",
      "Victim_Age                         10041 non-null float64\n",
      "Victim_Race_Desc                   12554 non-null object\n",
      "Complainant_Gender                 22595 non-null object\n",
      "Complainant_Age                    19068 non-null float64\n",
      "Complainant_Race_Desc              22595 non-null object\n",
      "dtypes: float64(13), object(27)\n",
      "memory usage: 9.6+ MB\n"
     ]
    }
   ],
   "source": [
    "# Print some information about each column: number of non-empty entries, data type\n",
    "# Useful to have an idea and to diagnose potential later issues\n",
    "df.info(verbose=True)"
   ]
  },
  {
   "cell_type": "code",
   "execution_count": 10,
   "metadata": {
    "collapsed": false
   },
   "outputs": [
    {
     "data": {
      "text/plain": [
       "['Complaint_Number', 'Accused_Name', 'Accused_Complaint_Category']"
      ]
     },
     "execution_count": 10,
     "metadata": {},
     "output_type": "execute_result"
    }
   ],
   "source": [
    "['Complaint_Number','Accused_Name','Accused_Complaint_Category']"
   ]
  },
  {
   "cell_type": "code",
   "execution_count": 23,
   "metadata": {
    "collapsed": true
   },
   "outputs": [],
   "source": [
    "# Subsetting these three columns we're interested in and saving as a new dataframe\n",
    "# .copy() creates a new copy, instead of just a view (reference to a subset of the bigger df dataframe)\n",
    "# We do this because if you start modifying things in a view\n",
    "# Otherwise, pandas will complain (it's an easy way to screw things up)\n",
    "df_sm = df[['Complaint_Number','Accused_Name','Accused_Complaint_Category']].copy()"
   ]
  },
  {
   "cell_type": "code",
   "execution_count": 9,
   "metadata": {
    "collapsed": false
   },
   "outputs": [
    {
     "data": {
      "text/html": [
       "<div>\n",
       "<table border=\"1\" class=\"dataframe\">\n",
       "  <thead>\n",
       "    <tr style=\"text-align: right;\">\n",
       "      <th></th>\n",
       "      <th>Complaint_Number</th>\n",
       "      <th>Accused_Name</th>\n",
       "      <th>Accused_Complaint_Category</th>\n",
       "    </tr>\n",
       "  </thead>\n",
       "  <tbody>\n",
       "    <tr>\n",
       "      <th>0</th>\n",
       "      <td>106213.0</td>\n",
       "      <td>NaN</td>\n",
       "      <td>NaN</td>\n",
       "    </tr>\n",
       "    <tr>\n",
       "      <th>1</th>\n",
       "      <td>107899.0</td>\n",
       "      <td>NaN</td>\n",
       "      <td>NaN</td>\n",
       "    </tr>\n",
       "    <tr>\n",
       "      <th>2</th>\n",
       "      <td>107901.0</td>\n",
       "      <td>GONZALES, ROBIN</td>\n",
       "      <td>NaN</td>\n",
       "    </tr>\n",
       "    <tr>\n",
       "      <th>3</th>\n",
       "      <td>108026.0</td>\n",
       "      <td>BECKER, JOHN</td>\n",
       "      <td>NaN</td>\n",
       "    </tr>\n",
       "    <tr>\n",
       "      <th>4</th>\n",
       "      <td>108026.0</td>\n",
       "      <td>MARKHAM, SEAN</td>\n",
       "      <td>NaN</td>\n",
       "    </tr>\n",
       "  </tbody>\n",
       "</table>\n",
       "</div>"
      ],
      "text/plain": [
       "   Complaint_Number     Accused_Name Accused_Complaint_Category\n",
       "0          106213.0              NaN                        NaN\n",
       "1          107899.0              NaN                        NaN\n",
       "2          107901.0  GONZALES, ROBIN                        NaN\n",
       "3          108026.0     BECKER, JOHN                        NaN\n",
       "4          108026.0    MARKHAM, SEAN                        NaN"
      ]
     },
     "execution_count": 9,
     "metadata": {},
     "output_type": "execute_result"
    }
   ],
   "source": [
    "# Print first five rows, see what it looks like\n",
    "df_sm.head()"
   ]
  },
  {
   "cell_type": "code",
   "execution_count": 12,
   "metadata": {
    "collapsed": false
   },
   "outputs": [
    {
     "name": "stderr",
     "output_type": "stream",
     "text": [
      "/Users/Jay/miniconda3/lib/python3.5/site-packages/IPython/core/interactiveshell.py:2723: DtypeWarning: Columns (1) have mixed types. Specify dtype option on import or set low_memory=False.\n",
      "  interactivity=interactivity, compiler=compiler, result=result)\n"
     ]
    }
   ],
   "source": [
    "# Import CPDB allegations dataset\n",
    "df_allegations = pd.read_csv('/Users/Jay/projects/chicago-police-data/cpdb_complaints-cpd/Master Database 12-7-15 vF_allegations.csv')"
   ]
  },
  {
   "cell_type": "code",
   "execution_count": 13,
   "metadata": {
    "collapsed": true
   },
   "outputs": [],
   "source": [
    "# Import CPDB officers dataset. these has names of officers and mapping to a CPDB internal ID number\n",
    "df_officers = pd.read_csv('/Users/Jay/projects/chicago-police-data/cpdb_complaints-cpd/Master Database 12-7-15 vF_officers.csv')"
   ]
  },
  {
   "cell_type": "code",
   "execution_count": 14,
   "metadata": {
    "collapsed": false
   },
   "outputs": [
    {
     "name": "stdout",
     "output_type": "stream",
     "text": [
      "<class 'pandas.core.frame.DataFrame'>\n",
      "RangeIndex: 9781 entries, 0 to 9780\n",
      "Data columns (total 22 columns):\n",
      "officer_id              9704 non-null float64\n",
      "officer_name            9704 non-null object\n",
      "officer_first           9704 non-null object\n",
      "officer_last            9704 non-null object\n",
      "gender                  8539 non-null object\n",
      "race                    8539 non-null object\n",
      "race_edit               9704 non-null object\n",
      "appt_date               7758 non-null object\n",
      "star                    8683 non-null float64\n",
      "rank                    7659 non-null object\n",
      "unit                    8042 non-null float64\n",
      "birth_year              6872 non-null float64\n",
      "Active (June 1 2015)    9704 non-null object\n",
      "allegations_count       9704 non-null float64\n",
      "discipline_count        9704 non-null float64\n",
      "Unnamed: 15             0 non-null float64\n",
      "Unnamed: 16             0 non-null float64\n",
      "Unnamed: 17             0 non-null float64\n",
      "Unnamed: 18             0 non-null float64\n",
      "Unnamed: 19             0 non-null float64\n",
      "Unnamed: 20             0 non-null float64\n",
      "Unnamed: 21             0 non-null float64\n",
      "dtypes: float64(13), object(9)\n",
      "memory usage: 1.6+ MB\n"
     ]
    }
   ],
   "source": [
    "df_officers.info(verbose=True)"
   ]
  },
  {
   "cell_type": "code",
   "execution_count": 15,
   "metadata": {
    "collapsed": false
   },
   "outputs": [
    {
     "name": "stdout",
     "output_type": "stream",
     "text": [
      "<class 'pandas.core.frame.DataFrame'>\n",
      "RangeIndex: 56385 entries, 0 to 56384\n",
      "Data columns (total 25 columns):\n",
      "id                     56384 non-null float64\n",
      "crid                   56384 non-null object\n",
      "officer_id             48314 non-null float64\n",
      "cat_id                 42779 non-null object\n",
      "category               56384 non-null object\n",
      "allegation_name        56384 non-null object\n",
      "recc_finding           6831 non-null object\n",
      "recc_outcome           16551 non-null float64\n",
      "final_finding          33062 non-null object\n",
      "final_outcome          28144 non-null float64\n",
      "finding_edit           56384 non-null object\n",
      "result                 56384 non-null object\n",
      "outcome_edit           56384 non-null object\n",
      "value                  56384 non-null object\n",
      "beat                   27731 non-null float64\n",
      "location               28585 non-null object\n",
      "add1                   21125 non-null float64\n",
      "add2                   21613 non-null object\n",
      "city                   21887 non-null object\n",
      "incident_date          28588 non-null object\n",
      "start_date             39302 non-null object\n",
      "end_date               34987 non-null object\n",
      "investigator_id        27951 non-null float64\n",
      "final_outcome_class    56384 non-null object\n",
      "Unnamed: 24            0 non-null float64\n",
      "dtypes: float64(8), object(17)\n",
      "memory usage: 10.8+ MB\n"
     ]
    }
   ],
   "source": [
    "df_allegations.info(verbose=True)"
   ]
  },
  {
   "cell_type": "code",
   "execution_count": 17,
   "metadata": {
    "collapsed": false
   },
   "outputs": [
    {
     "data": {
      "text/html": [
       "<div>\n",
       "<table border=\"1\" class=\"dataframe\">\n",
       "  <thead>\n",
       "    <tr style=\"text-align: right;\">\n",
       "      <th></th>\n",
       "      <th>id</th>\n",
       "      <th>crid</th>\n",
       "      <th>officer_id</th>\n",
       "      <th>cat_id</th>\n",
       "      <th>category</th>\n",
       "      <th>allegation_name</th>\n",
       "      <th>recc_finding</th>\n",
       "      <th>recc_outcome</th>\n",
       "      <th>final_finding</th>\n",
       "      <th>final_outcome</th>\n",
       "      <th>...</th>\n",
       "      <th>location</th>\n",
       "      <th>add1</th>\n",
       "      <th>add2</th>\n",
       "      <th>city</th>\n",
       "      <th>incident_date</th>\n",
       "      <th>start_date</th>\n",
       "      <th>end_date</th>\n",
       "      <th>investigator_id</th>\n",
       "      <th>final_outcome_class</th>\n",
       "      <th>Unnamed: 24</th>\n",
       "    </tr>\n",
       "  </thead>\n",
       "  <tbody>\n",
       "    <tr>\n",
       "      <th>0</th>\n",
       "      <td>1.0</td>\n",
       "      <td>280573</td>\n",
       "      <td>2104.0</td>\n",
       "      <td>03D</td>\n",
       "      <td>First Amendment and Illegal Arrest</td>\n",
       "      <td>Illegal Arrest / False Arrest</td>\n",
       "      <td>NaN</td>\n",
       "      <td>NaN</td>\n",
       "      <td>NS</td>\n",
       "      <td>600.0</td>\n",
       "      <td>...</td>\n",
       "      <td>NaN</td>\n",
       "      <td>NaN</td>\n",
       "      <td>NaN</td>\n",
       "      <td>NaN</td>\n",
       "      <td>NaN</td>\n",
       "      <td>2002-05-14</td>\n",
       "      <td>2002-10-30</td>\n",
       "      <td>NaN</td>\n",
       "      <td>not-sustained</td>\n",
       "      <td>NaN</td>\n",
       "    </tr>\n",
       "    <tr>\n",
       "      <th>1</th>\n",
       "      <td>2.0</td>\n",
       "      <td>281329</td>\n",
       "      <td>2104.0</td>\n",
       "      <td>05D</td>\n",
       "      <td>Arrest/Lock-up Procedures</td>\n",
       "      <td>Excessive Force / Off Duty - No Injury</td>\n",
       "      <td>NaN</td>\n",
       "      <td>NaN</td>\n",
       "      <td>UN</td>\n",
       "      <td>600.0</td>\n",
       "      <td>...</td>\n",
       "      <td>NaN</td>\n",
       "      <td>NaN</td>\n",
       "      <td>NaN</td>\n",
       "      <td>NaN</td>\n",
       "      <td>NaN</td>\n",
       "      <td>2002-06-08</td>\n",
       "      <td>2004-01-05</td>\n",
       "      <td>NaN</td>\n",
       "      <td>not-sustained</td>\n",
       "      <td>NaN</td>\n",
       "    </tr>\n",
       "    <tr>\n",
       "      <th>2</th>\n",
       "      <td>3.0</td>\n",
       "      <td>285275</td>\n",
       "      <td>2104.0</td>\n",
       "      <td>03D</td>\n",
       "      <td>First Amendment and Illegal Arrest</td>\n",
       "      <td>Illegal Arrest / False Arrest</td>\n",
       "      <td>NaN</td>\n",
       "      <td>NaN</td>\n",
       "      <td>EX</td>\n",
       "      <td>600.0</td>\n",
       "      <td>...</td>\n",
       "      <td>NaN</td>\n",
       "      <td>NaN</td>\n",
       "      <td>NaN</td>\n",
       "      <td>NaN</td>\n",
       "      <td>NaN</td>\n",
       "      <td>2002-10-25</td>\n",
       "      <td>2003-08-13</td>\n",
       "      <td>NaN</td>\n",
       "      <td>not-sustained</td>\n",
       "      <td>NaN</td>\n",
       "    </tr>\n",
       "    <tr>\n",
       "      <th>3</th>\n",
       "      <td>4.0</td>\n",
       "      <td>286312</td>\n",
       "      <td>2104.0</td>\n",
       "      <td>03B</td>\n",
       "      <td>First Amendment and Illegal Arrest</td>\n",
       "      <td>Improper Search Of Person</td>\n",
       "      <td>NaN</td>\n",
       "      <td>NaN</td>\n",
       "      <td>EX</td>\n",
       "      <td>600.0</td>\n",
       "      <td>...</td>\n",
       "      <td>NaN</td>\n",
       "      <td>NaN</td>\n",
       "      <td>NaN</td>\n",
       "      <td>NaN</td>\n",
       "      <td>NaN</td>\n",
       "      <td>2002-12-11</td>\n",
       "      <td>2003-05-01</td>\n",
       "      <td>NaN</td>\n",
       "      <td>not-sustained</td>\n",
       "      <td>NaN</td>\n",
       "    </tr>\n",
       "    <tr>\n",
       "      <th>4</th>\n",
       "      <td>5.0</td>\n",
       "      <td>286958</td>\n",
       "      <td>2104.0</td>\n",
       "      <td>03C</td>\n",
       "      <td>First Amendment and Illegal Arrest</td>\n",
       "      <td>Search Of Premise Without Warrant</td>\n",
       "      <td>NaN</td>\n",
       "      <td>NaN</td>\n",
       "      <td>UN</td>\n",
       "      <td>600.0</td>\n",
       "      <td>...</td>\n",
       "      <td>NaN</td>\n",
       "      <td>NaN</td>\n",
       "      <td>NaN</td>\n",
       "      <td>NaN</td>\n",
       "      <td>NaN</td>\n",
       "      <td>2003-01-11</td>\n",
       "      <td>2003-06-27</td>\n",
       "      <td>NaN</td>\n",
       "      <td>not-sustained</td>\n",
       "      <td>NaN</td>\n",
       "    </tr>\n",
       "  </tbody>\n",
       "</table>\n",
       "<p>5 rows × 25 columns</p>\n",
       "</div>"
      ],
      "text/plain": [
       "    id    crid  officer_id cat_id                            category  \\\n",
       "0  1.0  280573      2104.0    03D  First Amendment and Illegal Arrest   \n",
       "1  2.0  281329      2104.0    05D           Arrest/Lock-up Procedures   \n",
       "2  3.0  285275      2104.0    03D  First Amendment and Illegal Arrest   \n",
       "3  4.0  286312      2104.0    03B  First Amendment and Illegal Arrest   \n",
       "4  5.0  286958      2104.0    03C  First Amendment and Illegal Arrest   \n",
       "\n",
       "                          allegation_name recc_finding  recc_outcome  \\\n",
       "0           Illegal Arrest / False Arrest          NaN           NaN   \n",
       "1  Excessive Force / Off Duty - No Injury          NaN           NaN   \n",
       "2           Illegal Arrest / False Arrest          NaN           NaN   \n",
       "3               Improper Search Of Person          NaN           NaN   \n",
       "4       Search Of Premise Without Warrant          NaN           NaN   \n",
       "\n",
       "  final_finding  final_outcome     ...     location add1 add2 city  \\\n",
       "0            NS          600.0     ...          NaN  NaN  NaN  NaN   \n",
       "1            UN          600.0     ...          NaN  NaN  NaN  NaN   \n",
       "2            EX          600.0     ...          NaN  NaN  NaN  NaN   \n",
       "3            EX          600.0     ...          NaN  NaN  NaN  NaN   \n",
       "4            UN          600.0     ...          NaN  NaN  NaN  NaN   \n",
       "\n",
       "   incident_date  start_date    end_date investigator_id final_outcome_class  \\\n",
       "0            NaN  2002-05-14  2002-10-30             NaN       not-sustained   \n",
       "1            NaN  2002-06-08  2004-01-05             NaN       not-sustained   \n",
       "2            NaN  2002-10-25  2003-08-13             NaN       not-sustained   \n",
       "3            NaN  2002-12-11  2003-05-01             NaN       not-sustained   \n",
       "4            NaN  2003-01-11  2003-06-27             NaN       not-sustained   \n",
       "\n",
       "  Unnamed: 24  \n",
       "0         NaN  \n",
       "1         NaN  \n",
       "2         NaN  \n",
       "3         NaN  \n",
       "4         NaN  \n",
       "\n",
       "[5 rows x 25 columns]"
      ]
     },
     "execution_count": 17,
     "metadata": {},
     "output_type": "execute_result"
    }
   ],
   "source": [
    "df_allegations.head()"
   ]
  },
  {
   "cell_type": "code",
   "execution_count": 20,
   "metadata": {
    "collapsed": true
   },
   "outputs": [],
   "source": [
    "# We're going to subset on the rows we care about\n",
    "df_allegations_sm = df_allegations[['crid', 'cat_id','category','allegation_name']]"
   ]
  },
  {
   "cell_type": "code",
   "execution_count": 21,
   "metadata": {
    "collapsed": false
   },
   "outputs": [
    {
     "name": "stdout",
     "output_type": "stream",
     "text": [
      "<class 'pandas.core.frame.DataFrame'>\n",
      "RangeIndex: 56385 entries, 0 to 56384\n",
      "Data columns (total 4 columns):\n",
      "crid               56384 non-null object\n",
      "cat_id             42779 non-null object\n",
      "category           56384 non-null object\n",
      "allegation_name    56384 non-null object\n",
      "dtypes: object(4)\n",
      "memory usage: 1.7+ MB\n"
     ]
    }
   ],
   "source": [
    "df_allegations_sm.info(verbose=True)"
   ]
  },
  {
   "cell_type": "code",
   "execution_count": 24,
   "metadata": {
    "collapsed": false
   },
   "outputs": [
    {
     "data": {
      "text/html": [
       "<div>\n",
       "<table border=\"1\" class=\"dataframe\">\n",
       "  <thead>\n",
       "    <tr style=\"text-align: right;\">\n",
       "      <th></th>\n",
       "      <th>Complaint_Number</th>\n",
       "      <th>Accused_Name</th>\n",
       "      <th>Accused_Complaint_Category</th>\n",
       "    </tr>\n",
       "  </thead>\n",
       "  <tbody>\n",
       "    <tr>\n",
       "      <th>0</th>\n",
       "      <td>106213</td>\n",
       "      <td>NaN</td>\n",
       "      <td>NaN</td>\n",
       "    </tr>\n",
       "    <tr>\n",
       "      <th>1</th>\n",
       "      <td>107899</td>\n",
       "      <td>NaN</td>\n",
       "      <td>NaN</td>\n",
       "    </tr>\n",
       "    <tr>\n",
       "      <th>2</th>\n",
       "      <td>107901</td>\n",
       "      <td>GONZALES, ROBIN</td>\n",
       "      <td>NaN</td>\n",
       "    </tr>\n",
       "    <tr>\n",
       "      <th>3</th>\n",
       "      <td>108026</td>\n",
       "      <td>BECKER, JOHN</td>\n",
       "      <td>NaN</td>\n",
       "    </tr>\n",
       "    <tr>\n",
       "      <th>4</th>\n",
       "      <td>108026</td>\n",
       "      <td>MARKHAM, SEAN</td>\n",
       "      <td>NaN</td>\n",
       "    </tr>\n",
       "  </tbody>\n",
       "</table>\n",
       "</div>"
      ],
      "text/plain": [
       "  Complaint_Number     Accused_Name Accused_Complaint_Category\n",
       "0           106213              NaN                        NaN\n",
       "1           107899              NaN                        NaN\n",
       "2           107901  GONZALES, ROBIN                        NaN\n",
       "3           108026     BECKER, JOHN                        NaN\n",
       "4           108026    MARKHAM, SEAN                        NaN"
      ]
     },
     "execution_count": 24,
     "metadata": {},
     "output_type": "execute_result"
    }
   ],
   "source": [
    "# We're going to want to df_sm and df_allegations_sm by complaint number\n",
    "# From earlier, the June 2016 data had complaint numbers like 106213.0\n",
    "# It thinks they're floats! But we want a string that's like '106213' to match df_allegations_sm\n",
    "# So we're going to cast as int to round off the .0 and then cast as string\n",
    "# Below we're using .apply, which lets you specify any arbitrary function\n",
    "# The lambda x is how you write anonymous functions in Python\n",
    "\n",
    "df_sm['Complaint_Number'] = df_sm['Complaint_Number'].apply(lambda x: str(int(x)))\n",
    "df_sm.head()\n",
    "\n",
    "# the smarter way to do this would be to use built-in pandas cast, e.g.\n",
    "#      df_sm['Complaint_Number'].astype(int).astype(str)"
   ]
  },
  {
   "cell_type": "code",
   "execution_count": 26,
   "metadata": {
    "collapsed": false
   },
   "outputs": [],
   "source": [
    "# Here we do an inner join. This will drop rows where the complaint number doesn't exist for both dfs\n",
    "df_merged = pd.merge(df_sm,df_allegations_sm,left_on='Complaint_Number', right_on='crid',how='inner')"
   ]
  },
  {
   "cell_type": "code",
   "execution_count": 27,
   "metadata": {
    "collapsed": false
   },
   "outputs": [
    {
     "data": {
      "text/html": [
       "<div>\n",
       "<table border=\"1\" class=\"dataframe\">\n",
       "  <thead>\n",
       "    <tr style=\"text-align: right;\">\n",
       "      <th></th>\n",
       "      <th>Complaint_Number</th>\n",
       "      <th>Accused_Name</th>\n",
       "      <th>Accused_Complaint_Category</th>\n",
       "      <th>crid</th>\n",
       "      <th>cat_id</th>\n",
       "      <th>category</th>\n",
       "      <th>allegation_name</th>\n",
       "    </tr>\n",
       "  </thead>\n",
       "  <tbody>\n",
       "    <tr>\n",
       "      <th>0</th>\n",
       "      <td>1039179</td>\n",
       "      <td>YANEZ, JUAN</td>\n",
       "      <td>05J-\"U\" CONVERTED TO C.R. (RECORDS KEEPING ONL...</td>\n",
       "      <td>1039179</td>\n",
       "      <td>05J</td>\n",
       "      <td>Arrest/Lock-up Procedures</td>\n",
       "      <td>U Converted To C.R. (Records Keeping Only, Ini...</td>\n",
       "    </tr>\n",
       "    <tr>\n",
       "      <th>1</th>\n",
       "      <td>1039179</td>\n",
       "      <td>YANEZ, JUAN</td>\n",
       "      <td>05J-\"U\" CONVERTED TO C.R. (RECORDS KEEPING ONL...</td>\n",
       "      <td>1039179</td>\n",
       "      <td>05J</td>\n",
       "      <td>Arrest/Lock-up Procedures</td>\n",
       "      <td>U Converted To C.R. (Records Keeping Only, Ini...</td>\n",
       "    </tr>\n",
       "    <tr>\n",
       "      <th>2</th>\n",
       "      <td>1039179</td>\n",
       "      <td>YANEZ, JUAN</td>\n",
       "      <td>05J-\"U\" CONVERTED TO C.R. (RECORDS KEEPING ONL...</td>\n",
       "      <td>1039179</td>\n",
       "      <td>05J</td>\n",
       "      <td>Arrest/Lock-up Procedures</td>\n",
       "      <td>U Converted To C.R. (Records Keeping Only, Ini...</td>\n",
       "    </tr>\n",
       "    <tr>\n",
       "      <th>3</th>\n",
       "      <td>1039179</td>\n",
       "      <td>YANEZ, JUAN</td>\n",
       "      <td>05J-\"U\" CONVERTED TO C.R. (RECORDS KEEPING ONL...</td>\n",
       "      <td>1039179</td>\n",
       "      <td>05J</td>\n",
       "      <td>Arrest/Lock-up Procedures</td>\n",
       "      <td>U Converted To C.R. (Records Keeping Only, Ini...</td>\n",
       "    </tr>\n",
       "    <tr>\n",
       "      <th>4</th>\n",
       "      <td>1039179</td>\n",
       "      <td>YANEZ, JUAN</td>\n",
       "      <td>05J-\"U\" CONVERTED TO C.R. (RECORDS KEEPING ONL...</td>\n",
       "      <td>1039179</td>\n",
       "      <td>05J</td>\n",
       "      <td>Arrest/Lock-up Procedures</td>\n",
       "      <td>U Converted To C.R. (Records Keeping Only, Ini...</td>\n",
       "    </tr>\n",
       "  </tbody>\n",
       "</table>\n",
       "</div>"
      ],
      "text/plain": [
       "  Complaint_Number Accused_Name  \\\n",
       "0          1039179  YANEZ, JUAN   \n",
       "1          1039179  YANEZ, JUAN   \n",
       "2          1039179  YANEZ, JUAN   \n",
       "3          1039179  YANEZ, JUAN   \n",
       "4          1039179  YANEZ, JUAN   \n",
       "\n",
       "                          Accused_Complaint_Category     crid cat_id  \\\n",
       "0  05J-\"U\" CONVERTED TO C.R. (RECORDS KEEPING ONL...  1039179    05J   \n",
       "1  05J-\"U\" CONVERTED TO C.R. (RECORDS KEEPING ONL...  1039179    05J   \n",
       "2  05J-\"U\" CONVERTED TO C.R. (RECORDS KEEPING ONL...  1039179    05J   \n",
       "3  05J-\"U\" CONVERTED TO C.R. (RECORDS KEEPING ONL...  1039179    05J   \n",
       "4  05J-\"U\" CONVERTED TO C.R. (RECORDS KEEPING ONL...  1039179    05J   \n",
       "\n",
       "                    category  \\\n",
       "0  Arrest/Lock-up Procedures   \n",
       "1  Arrest/Lock-up Procedures   \n",
       "2  Arrest/Lock-up Procedures   \n",
       "3  Arrest/Lock-up Procedures   \n",
       "4  Arrest/Lock-up Procedures   \n",
       "\n",
       "                                     allegation_name  \n",
       "0  U Converted To C.R. (Records Keeping Only, Ini...  \n",
       "1  U Converted To C.R. (Records Keeping Only, Ini...  \n",
       "2  U Converted To C.R. (Records Keeping Only, Ini...  \n",
       "3  U Converted To C.R. (Records Keeping Only, Ini...  \n",
       "4  U Converted To C.R. (Records Keeping Only, Ini...  "
      ]
     },
     "execution_count": 27,
     "metadata": {},
     "output_type": "execute_result"
    }
   ],
   "source": [
    "df_merged.head()"
   ]
  },
  {
   "cell_type": "code",
   "execution_count": 29,
   "metadata": {
    "collapsed": false
   },
   "outputs": [
    {
     "data": {
      "text/html": [
       "<div>\n",
       "<table border=\"1\" class=\"dataframe\">\n",
       "  <thead>\n",
       "    <tr style=\"text-align: right;\">\n",
       "      <th></th>\n",
       "      <th>Complaint_Number</th>\n",
       "      <th>Accused_Name</th>\n",
       "      <th>Accused_Complaint_Category</th>\n",
       "      <th>crid</th>\n",
       "      <th>cat_id</th>\n",
       "      <th>category</th>\n",
       "      <th>allegation_name</th>\n",
       "    </tr>\n",
       "  </thead>\n",
       "  <tbody>\n",
       "    <tr>\n",
       "      <th>0</th>\n",
       "      <td>1039179</td>\n",
       "      <td>YANEZ, JUAN</td>\n",
       "      <td>05J-\"U\" CONVERTED TO C.R. (RECORDS KEEPING ONL...</td>\n",
       "      <td>1039179</td>\n",
       "      <td>05J</td>\n",
       "      <td>Arrest/Lock-up Procedures</td>\n",
       "      <td>U Converted To C.R. (Records Keeping Only, Ini...</td>\n",
       "    </tr>\n",
       "    <tr>\n",
       "      <th>6</th>\n",
       "      <td>1039179</td>\n",
       "      <td>CHATYS, MARTIN</td>\n",
       "      <td>05J-\"U\" CONVERTED TO C.R. (RECORDS KEEPING ONL...</td>\n",
       "      <td>1039179</td>\n",
       "      <td>05J</td>\n",
       "      <td>Arrest/Lock-up Procedures</td>\n",
       "      <td>U Converted To C.R. (Records Keeping Only, Ini...</td>\n",
       "    </tr>\n",
       "    <tr>\n",
       "      <th>12</th>\n",
       "      <td>1053497</td>\n",
       "      <td>COLEMAN, MARVIN</td>\n",
       "      <td>10V-INVENTORY PROCEDURES</td>\n",
       "      <td>1053497</td>\n",
       "      <td>10V</td>\n",
       "      <td>Operation/Personnel Violations</td>\n",
       "      <td>Inventory Procedures</td>\n",
       "    </tr>\n",
       "    <tr>\n",
       "      <th>13</th>\n",
       "      <td>1053497</td>\n",
       "      <td>EDWARDS, TRACEY</td>\n",
       "      <td>10V-INVENTORY PROCEDURES</td>\n",
       "      <td>1053497</td>\n",
       "      <td>10V</td>\n",
       "      <td>Operation/Personnel Violations</td>\n",
       "      <td>Inventory Procedures</td>\n",
       "    </tr>\n",
       "    <tr>\n",
       "      <th>14</th>\n",
       "      <td>1053502</td>\n",
       "      <td>COLLIER, DWAYNE</td>\n",
       "      <td>03C-SEARCH OF PREMISE/VEHICLE WITHOUT WARRANT</td>\n",
       "      <td>1053502</td>\n",
       "      <td>03C</td>\n",
       "      <td>First Amendment and Illegal Arrest</td>\n",
       "      <td>Search Of Premise Without Warrant</td>\n",
       "    </tr>\n",
       "  </tbody>\n",
       "</table>\n",
       "</div>"
      ],
      "text/plain": [
       "   Complaint_Number     Accused_Name  \\\n",
       "0           1039179      YANEZ, JUAN   \n",
       "6           1039179   CHATYS, MARTIN   \n",
       "12          1053497  COLEMAN, MARVIN   \n",
       "13          1053497  EDWARDS, TRACEY   \n",
       "14          1053502  COLLIER, DWAYNE   \n",
       "\n",
       "                           Accused_Complaint_Category     crid cat_id  \\\n",
       "0   05J-\"U\" CONVERTED TO C.R. (RECORDS KEEPING ONL...  1039179    05J   \n",
       "6   05J-\"U\" CONVERTED TO C.R. (RECORDS KEEPING ONL...  1039179    05J   \n",
       "12                           10V-INVENTORY PROCEDURES  1053497    10V   \n",
       "13                           10V-INVENTORY PROCEDURES  1053497    10V   \n",
       "14      03C-SEARCH OF PREMISE/VEHICLE WITHOUT WARRANT  1053502    03C   \n",
       "\n",
       "                              category  \\\n",
       "0            Arrest/Lock-up Procedures   \n",
       "6            Arrest/Lock-up Procedures   \n",
       "12      Operation/Personnel Violations   \n",
       "13      Operation/Personnel Violations   \n",
       "14  First Amendment and Illegal Arrest   \n",
       "\n",
       "                                      allegation_name  \n",
       "0   U Converted To C.R. (Records Keeping Only, Ini...  \n",
       "6   U Converted To C.R. (Records Keeping Only, Ini...  \n",
       "12                               Inventory Procedures  \n",
       "13                               Inventory Procedures  \n",
       "14                  Search Of Premise Without Warrant  "
      ]
     },
     "execution_count": 29,
     "metadata": {},
     "output_type": "execute_result"
    }
   ],
   "source": [
    "# We're going to drop duplicate rows\n",
    "# In June 2016 we get duplicates from there being multiple officers involved in the same incident\n",
    "\n",
    "df_merged_clean = df_merged.drop_duplicates()\n",
    "df_merged_clean.head()"
   ]
  },
  {
   "cell_type": "code",
   "execution_count": null,
   "metadata": {
    "collapsed": true
   },
   "outputs": [],
   "source": [
    "# We can see that Accused_Complaint_Category from June 2016 dataset has a bunch of extra info\n",
    "# but cat_id from CPDB only has code\n",
    "# We're going to try to use string subset comparison, if the cat_id entry is `in` other entry\n",
    "\n",
    "# (Disclaimer, this next bit is wrong)"
   ]
  },
  {
   "cell_type": "code",
   "execution_count": 31,
   "metadata": {
    "collapsed": false
   },
   "outputs": [
    {
     "data": {
      "text/plain": [
       "1038"
      ]
     },
     "execution_count": 31,
     "metadata": {},
     "output_type": "execute_result"
    }
   ],
   "source": [
    "# Here we try to use .isin() to generate a column of booleans, sum to get number of trues\n",
    "df_merged_clean['cat_id'].isin(df_merged_clean['Accused_Complaint_Category']).sum()"
   ]
  },
  {
   "cell_type": "code",
   "execution_count": 34,
   "metadata": {
    "collapsed": false
   },
   "outputs": [
    {
     "data": {
      "text/plain": [
       "5697"
      ]
     },
     "execution_count": 34,
     "metadata": {},
     "output_type": "execute_result"
    }
   ],
   "source": [
    "# Here we use ~ to negate the booleans\n",
    "(~df_merged_clean['cat_id'].isin(df_merged_clean['Accused_Complaint_Category'])).sum()"
   ]
  },
  {
   "cell_type": "code",
   "execution_count": 62,
   "metadata": {
    "collapsed": true
   },
   "outputs": [],
   "source": [
    "# The above tells us that we have 1038 matches, and 5697 differences\n",
    "# That seems like a lot of differences! \n",
    "# We got rid of the code that looked at what this did, but it's actually just catching NAs \n",
    "# Also we did it backwards,    x.is(y) checks if y is in x, it does *not* check if x is in y\n"
   ]
  },
  {
   "cell_type": "code",
   "execution_count": 54,
   "metadata": {
    "collapsed": false
   },
   "outputs": [],
   "source": [
    "# Here we're dropping rows if they have NAs in either of the two specified columns\n",
    "# axis = 0 means we want to drop rows\n",
    "df_merged_clean_nnans= df_merged_clean.dropna(axis=0,subset=['cat_id','Accused_Complaint_Category'])"
   ]
  },
  {
   "cell_type": "code",
   "execution_count": 42,
   "metadata": {
    "collapsed": false
   },
   "outputs": [
    {
     "data": {
      "text/html": [
       "<div>\n",
       "<table border=\"1\" class=\"dataframe\">\n",
       "  <thead>\n",
       "    <tr style=\"text-align: right;\">\n",
       "      <th></th>\n",
       "      <th>Complaint_Number</th>\n",
       "      <th>Accused_Name</th>\n",
       "      <th>Accused_Complaint_Category</th>\n",
       "      <th>crid</th>\n",
       "      <th>cat_id</th>\n",
       "      <th>category</th>\n",
       "      <th>allegation_name</th>\n",
       "    </tr>\n",
       "  </thead>\n",
       "  <tbody>\n",
       "  </tbody>\n",
       "</table>\n",
       "</div>"
      ],
      "text/plain": [
       "Empty DataFrame\n",
       "Columns: [Complaint_Number, Accused_Name, Accused_Complaint_Category, crid, cat_id, category, allegation_name]\n",
       "Index: []"
      ]
     },
     "execution_count": 42,
     "metadata": {},
     "output_type": "execute_result"
    }
   ],
   "source": [
    "# Here we were investigating if stripping whitespace might fix the earlier problem with isin()\n",
    "# .strip() will strip trailing and leading whitespace\n",
    "df_merged_clean_nnans[(df_merged_clean_nnans['cat_id'].str.strip().isin(df_merged_clean_nnans['Accused_Complaint_Category']))]"
   ]
  },
  {
   "cell_type": "code",
   "execution_count": 55,
   "metadata": {
    "collapsed": false
   },
   "outputs": [],
   "source": [
    "# Since we were messing up the .isin() earlier (we were getting it backwards),\n",
    "# we decided to use apply instead and make a lambda function that does what we want\n",
    "# here, axis=1 says we're applying this function across columns (so we're passing the function a row)\n",
    "# this gives us a column of True if cat_id is in Accused_Complaint_Category\n",
    "df_bool_compare = df_merged_clean_nnans.apply(lambda row: str(row['cat_id']) in str(row['Accused_Complaint_Category']),axis=1)"
   ]
  },
  {
   "cell_type": "code",
   "execution_count": 57,
   "metadata": {
    "collapsed": false
   },
   "outputs": [],
   "source": [
    "# Here we get the dataframe of our mismatches (we're negating the matches)\n",
    "df_final_mismatch= df_merged_clean_nnans[~df_bool_compare]"
   ]
  },
  {
   "cell_type": "code",
   "execution_count": 59,
   "metadata": {
    "collapsed": false
   },
   "outputs": [
    {
     "data": {
      "text/plain": [
       "(125, 7)"
      ]
     },
     "execution_count": 59,
     "metadata": {},
     "output_type": "execute_result"
    }
   ],
   "source": [
    "# This gives us the number of rows and columns. so we have 125 mismatches!\n",
    "df_final_mismatch.shape"
   ]
  },
  {
   "cell_type": "code",
   "execution_count": null,
   "metadata": {
    "collapsed": true
   },
   "outputs": [],
   "source": []
  },
  {
   "cell_type": "markdown",
   "metadata": {},
   "source": [
    "# Post session output\n",
    "\n",
    "I'm just writing some additional code so we can get some results from this out of it"
   ]
  },
  {
   "cell_type": "code",
   "execution_count": 68,
   "metadata": {
    "collapsed": false
   },
   "outputs": [
    {
     "data": {
      "text/html": [
       "<div>\n",
       "<table border=\"1\" class=\"dataframe\">\n",
       "  <thead>\n",
       "    <tr style=\"text-align: right;\">\n",
       "      <th></th>\n",
       "      <th>Complaint_Number</th>\n",
       "      <th>Accused_Name</th>\n",
       "      <th>Accused_Complaint_Category</th>\n",
       "      <th>crid</th>\n",
       "      <th>cat_id</th>\n",
       "      <th>category</th>\n",
       "      <th>allegation_name</th>\n",
       "    </tr>\n",
       "  </thead>\n",
       "  <tbody>\n",
       "    <tr>\n",
       "      <th>26</th>\n",
       "      <td>1053519</td>\n",
       "      <td>SOSA, JESSICA</td>\n",
       "      <td>03B-SEARCH OF PERSON WITHOUT WARRANT</td>\n",
       "      <td>1053519</td>\n",
       "      <td>05N</td>\n",
       "      <td>Arrest/Lock-up Procedures</td>\n",
       "      <td>Unnecessary Physical Contact / Off Duty - No I...</td>\n",
       "    </tr>\n",
       "    <tr>\n",
       "      <th>39</th>\n",
       "      <td>1053524</td>\n",
       "      <td>SKIBINSKI, CHRISTINE</td>\n",
       "      <td>05B-ARRESTEE - AFTER ARREST, PRIOR TO LOCKUP</td>\n",
       "      <td>1053524</td>\n",
       "      <td>05N</td>\n",
       "      <td>Arrest/Lock-up Procedures</td>\n",
       "      <td>Unnecessary Physical Contact / Off Duty - No I...</td>\n",
       "    </tr>\n",
       "    <tr>\n",
       "      <th>389</th>\n",
       "      <td>1053676</td>\n",
       "      <td>FOSTER, BELINDA</td>\n",
       "      <td>05A-ARRESTEE - DURING ARREST</td>\n",
       "      <td>1053676</td>\n",
       "      <td>05B</td>\n",
       "      <td>Arrest/Lock-up Procedures</td>\n",
       "      <td>Excessive Force / On Duty - No Injury</td>\n",
       "    </tr>\n",
       "    <tr>\n",
       "      <th>390</th>\n",
       "      <td>1053676</td>\n",
       "      <td>DUCK, MICHAEL</td>\n",
       "      <td>05B-ARRESTEE - AFTER ARREST, PRIOR TO LOCKUP</td>\n",
       "      <td>1053676</td>\n",
       "      <td>05A</td>\n",
       "      <td>Arrest/Lock-up Procedures</td>\n",
       "      <td>Excessive Force / On Duty - Injury</td>\n",
       "    </tr>\n",
       "    <tr>\n",
       "      <th>392</th>\n",
       "      <td>1053676</td>\n",
       "      <td>STEELE, ROBERTA</td>\n",
       "      <td>05B-ARRESTEE - AFTER ARREST, PRIOR TO LOCKUP</td>\n",
       "      <td>1053676</td>\n",
       "      <td>05A</td>\n",
       "      <td>Arrest/Lock-up Procedures</td>\n",
       "      <td>Excessive Force / On Duty - Injury</td>\n",
       "    </tr>\n",
       "  </tbody>\n",
       "</table>\n",
       "</div>"
      ],
      "text/plain": [
       "    Complaint_Number          Accused_Name  \\\n",
       "26           1053519         SOSA, JESSICA   \n",
       "39           1053524  SKIBINSKI, CHRISTINE   \n",
       "389          1053676       FOSTER, BELINDA   \n",
       "390          1053676         DUCK, MICHAEL   \n",
       "392          1053676       STEELE, ROBERTA   \n",
       "\n",
       "                       Accused_Complaint_Category     crid cat_id  \\\n",
       "26           03B-SEARCH OF PERSON WITHOUT WARRANT  1053519    05N   \n",
       "39   05B-ARRESTEE - AFTER ARREST, PRIOR TO LOCKUP  1053524    05N   \n",
       "389                  05A-ARRESTEE - DURING ARREST  1053676    05B   \n",
       "390  05B-ARRESTEE - AFTER ARREST, PRIOR TO LOCKUP  1053676    05A   \n",
       "392  05B-ARRESTEE - AFTER ARREST, PRIOR TO LOCKUP  1053676    05A   \n",
       "\n",
       "                      category  \\\n",
       "26   Arrest/Lock-up Procedures   \n",
       "39   Arrest/Lock-up Procedures   \n",
       "389  Arrest/Lock-up Procedures   \n",
       "390  Arrest/Lock-up Procedures   \n",
       "392  Arrest/Lock-up Procedures   \n",
       "\n",
       "                                       allegation_name  \n",
       "26   Unnecessary Physical Contact / Off Duty - No I...  \n",
       "39   Unnecessary Physical Contact / Off Duty - No I...  \n",
       "389              Excessive Force / On Duty - No Injury  \n",
       "390                 Excessive Force / On Duty - Injury  \n",
       "392                 Excessive Force / On Duty - Injury  "
      ]
     },
     "execution_count": 68,
     "metadata": {},
     "output_type": "execute_result"
    }
   ],
   "source": [
    "df_final_mismatch.head()"
   ]
  },
  {
   "cell_type": "code",
   "execution_count": 70,
   "metadata": {
    "collapsed": false
   },
   "outputs": [
    {
     "name": "stdout",
     "output_type": "stream",
     "text": [
      "Number of CRIDs in CPDB:  39591\n",
      "Number of CRIDs in June 2016:  16531\n",
      "Number of overlapping CRIDs:  2729\n",
      "\n",
      "Number of rows for overlapping CRIDs with both non-null cat codes:  5505\n",
      "\n",
      "Number of overlapping CRIDs with both non-null cat codes:  2293\n",
      "Number of mismatches:  67\n"
     ]
    }
   ],
   "source": [
    "print('Number of CRIDs in CPDB: ', df_allegations['crid'].nunique())\n",
    "print('Number of CRIDs in June 2016: ', df['Complaint_Number'].nunique())\n",
    "print('Number of overlapping CRIDs: ', df_merged['crid'].nunique())\n",
    "print('')\n",
    "print('Number of rows for overlapping CRIDs with both non-null cat codes: ', df_merged_clean_nnans['crid'].shape[0])\n",
    "print('')\n",
    "print('Number of overlapping CRIDs with both non-null cat codes: ', df_merged_clean_nnans['crid'].nunique())\n",
    "print('Number of mismatches: ', df_final_mismatch['crid'].nunique())"
   ]
  },
  {
   "cell_type": "markdown",
   "metadata": {},
   "source": [
    "It looks like we were still having some multiple rows because we kept the Accused_Name and there are multiple accused officers for each CRID. So there were 67 unique CRIDs between the two sets where the categories changed. \n",
    "\n",
    "However, this doesn't account for complaints where it was either blank for one but not the other. "
   ]
  },
  {
   "cell_type": "code",
   "execution_count": 73,
   "metadata": {
    "collapsed": true
   },
   "outputs": [],
   "source": [
    "# Saving df_final_mismatch to csv\n",
    "df_merged.to_csv('june2016-cpdb_merged.csv',index=False)\n",
    "df_final_mismatch.to_csv('june2016-cpdb_category_mismatch.csv',index=False)"
   ]
  },
  {
   "cell_type": "code",
   "execution_count": null,
   "metadata": {
    "collapsed": true
   },
   "outputs": [],
   "source": []
  }
 ],
 "metadata": {
  "kernelspec": {
   "display_name": "Python 3",
   "language": "python",
   "name": "python3"
  },
  "language_info": {
   "codemirror_mode": {
    "name": "ipython",
    "version": 3
   },
   "file_extension": ".py",
   "mimetype": "text/x-python",
   "name": "python",
   "nbconvert_exporter": "python",
   "pygments_lexer": "ipython3",
   "version": "3.5.1"
  }
 },
 "nbformat": 4,
 "nbformat_minor": 0
}
